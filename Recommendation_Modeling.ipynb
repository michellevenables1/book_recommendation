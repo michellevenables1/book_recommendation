{
 "cells": [
  {
   "cell_type": "code",
   "execution_count": 50,
   "metadata": {},
   "outputs": [],
   "source": [
    "import numpy as np\n",
    "import pandas as pd\n",
    "import matplotlib.pyplot as plt\n",
    "import warnings\n",
    "warnings.filterwarnings('ignore')\n",
    "import seaborn as sns\n",
    "sns.set_style('white')\n",
    "%matplotlib inline\n",
    "from surprise import Dataset, Reader\n",
    "from surprise import SVD\n",
    "from surprise import accuracy\n",
    "from surprise.model_selection import cross_validate, train_test_split\n",
    "from surprise.prediction_algorithms import knns\n",
    "from surprise.model_selection import train_test_split\n",
    "from surprise import Reader, Dataset\n",
    "#prediction model imports\n",
    "from surprise.model_selection import cross_validate\n",
    "from surprise.prediction_algorithms import SVD\n",
    "from surprise.prediction_algorithms import KNNWithMeans, KNNBasic, KNNBaseline\n",
    "from surprise.model_selection import GridSearchCV\n",
    "# If you want to compare item-item\n",
    "from surprise.similarities import cosine, msd, pearson"
   ]
  },
  {
   "cell_type": "code",
   "execution_count": 51,
   "metadata": {},
   "outputs": [],
   "source": [
    "#import data\n",
    "df = pd.read_csv('df.csv', index_col=0)\n",
    "df2 = pd.read_csv('df2.csv', index_col=0)\n",
    "df3 = pd.read_csv('df3.csv', index_col=0)"
   ]
  },
  {
   "cell_type": "markdown",
   "metadata": {},
   "source": [
    "# Train Test Split Data"
   ]
  },
  {
   "cell_type": "code",
   "execution_count": 52,
   "metadata": {},
   "outputs": [],
   "source": [
    "# scale the rating from 1-10 .... default is 1-5\n",
    "reader = Reader(rating_scale=(1, 10))\n",
    "book_list = list(df2['title'])"
   ]
  },
  {
   "cell_type": "code",
   "execution_count": 54,
   "metadata": {},
   "outputs": [
    {
     "name": "stdout",
     "output_type": "stream",
     "text": [
      "(46585, 3)\n",
      "(46585, 10)\n"
     ]
    }
   ],
   "source": [
    "# for trainset, testset the data needs to be in object form \n",
    "data = Dataset.load_from_df(df2[['user_id','title','book_rating']], reader)\n",
    "trainset, testset = train_test_split(data, test_size = 0.30, random_state=42)\n",
    "\n",
    "# 46,585 user ratings \n",
    "print(df2.shape)\n",
    "print(df3.shape)"
   ]
  },
  {
   "cell_type": "markdown",
   "metadata": {},
   "source": [
    "# Utility Matrix"
   ]
  },
  {
   "cell_type": "code",
   "execution_count": 49,
   "metadata": {},
   "outputs": [
    {
     "data": {
      "text/html": [
       "<div>\n",
       "<style scoped>\n",
       "    .dataframe tbody tr th:only-of-type {\n",
       "        vertical-align: middle;\n",
       "    }\n",
       "\n",
       "    .dataframe tbody tr th {\n",
       "        vertical-align: top;\n",
       "    }\n",
       "\n",
       "    .dataframe thead th {\n",
       "        text-align: right;\n",
       "    }\n",
       "</style>\n",
       "<table border=\"1\" class=\"dataframe\">\n",
       "  <thead>\n",
       "    <tr style=\"text-align: right;\">\n",
       "      <th>title</th>\n",
       "      <th>Dark Justice</th>\n",
       "      <th>Flight Of Fancy American Heiresses  Zebra Ballad Romance</th>\n",
       "      <th>Microsoft Application Architecture For Microsoft .Net Designing Application  Pro-Other</th>\n",
       "      <th>Murder Of A Sleeping Beauty  Scumble River Mysteries  Paperback</th>\n",
       "      <th>$30 Film School</th>\n",
       "      <th>'A Hell Of A Place To Lose A Cow' An American Hitchhiking Odyssey</th>\n",
       "      <th>'Round The Corner  Sister Circle</th>\n",
       "      <th>'Til Death Do Us Part</th>\n",
       "      <th>'Tis Herself  A Memoir</th>\n",
       "      <th>10 Minutes Till Bedtime</th>\n",
       "      <th>...</th>\n",
       "      <th>Zipping My Fly Moments In The Life Of An American Sportsman</th>\n",
       "      <th>Zippy Annual 2001</th>\n",
       "      <th>Zobmondo The Outrageous Book Of Bizarre Choices</th>\n",
       "      <th>Zodiac</th>\n",
       "      <th>Zoya'S Story An Afghan Woman'S Struggle For Freedom</th>\n",
       "      <th>Zulu Heart</th>\n",
       "      <th>\\But Don'T All Religions Lead To God?\\\"\"</th>\n",
       "      <th>\\O\\\" Is For Outlaw\"</th>\n",
       "      <th>\\The Gold Club\\\" The Jacklyn \\\"Diva\\\" Bush Story How I Went From Gold Room To Court Room\"</th>\n",
       "      <th>\\You'Ll Never Nanny In This Town Again!\\\" The Adventures And Misadventures Of A Hollywood Nanny\"</th>\n",
       "    </tr>\n",
       "    <tr>\n",
       "      <th>user_id</th>\n",
       "      <th></th>\n",
       "      <th></th>\n",
       "      <th></th>\n",
       "      <th></th>\n",
       "      <th></th>\n",
       "      <th></th>\n",
       "      <th></th>\n",
       "      <th></th>\n",
       "      <th></th>\n",
       "      <th></th>\n",
       "      <th></th>\n",
       "      <th></th>\n",
       "      <th></th>\n",
       "      <th></th>\n",
       "      <th></th>\n",
       "      <th></th>\n",
       "      <th></th>\n",
       "      <th></th>\n",
       "      <th></th>\n",
       "      <th></th>\n",
       "      <th></th>\n",
       "    </tr>\n",
       "  </thead>\n",
       "  <tbody>\n",
       "    <tr>\n",
       "      <th>42</th>\n",
       "      <td>NaN</td>\n",
       "      <td>NaN</td>\n",
       "      <td>NaN</td>\n",
       "      <td>NaN</td>\n",
       "      <td>NaN</td>\n",
       "      <td>NaN</td>\n",
       "      <td>NaN</td>\n",
       "      <td>NaN</td>\n",
       "      <td>NaN</td>\n",
       "      <td>NaN</td>\n",
       "      <td>...</td>\n",
       "      <td>NaN</td>\n",
       "      <td>NaN</td>\n",
       "      <td>NaN</td>\n",
       "      <td>NaN</td>\n",
       "      <td>NaN</td>\n",
       "      <td>NaN</td>\n",
       "      <td>NaN</td>\n",
       "      <td>NaN</td>\n",
       "      <td>NaN</td>\n",
       "      <td>NaN</td>\n",
       "    </tr>\n",
       "    <tr>\n",
       "      <th>70</th>\n",
       "      <td>NaN</td>\n",
       "      <td>NaN</td>\n",
       "      <td>NaN</td>\n",
       "      <td>NaN</td>\n",
       "      <td>NaN</td>\n",
       "      <td>NaN</td>\n",
       "      <td>NaN</td>\n",
       "      <td>NaN</td>\n",
       "      <td>NaN</td>\n",
       "      <td>NaN</td>\n",
       "      <td>...</td>\n",
       "      <td>NaN</td>\n",
       "      <td>NaN</td>\n",
       "      <td>NaN</td>\n",
       "      <td>NaN</td>\n",
       "      <td>NaN</td>\n",
       "      <td>NaN</td>\n",
       "      <td>NaN</td>\n",
       "      <td>NaN</td>\n",
       "      <td>NaN</td>\n",
       "      <td>NaN</td>\n",
       "    </tr>\n",
       "    <tr>\n",
       "      <th>99</th>\n",
       "      <td>NaN</td>\n",
       "      <td>NaN</td>\n",
       "      <td>NaN</td>\n",
       "      <td>NaN</td>\n",
       "      <td>NaN</td>\n",
       "      <td>NaN</td>\n",
       "      <td>NaN</td>\n",
       "      <td>NaN</td>\n",
       "      <td>NaN</td>\n",
       "      <td>NaN</td>\n",
       "      <td>...</td>\n",
       "      <td>NaN</td>\n",
       "      <td>NaN</td>\n",
       "      <td>NaN</td>\n",
       "      <td>NaN</td>\n",
       "      <td>NaN</td>\n",
       "      <td>NaN</td>\n",
       "      <td>NaN</td>\n",
       "      <td>NaN</td>\n",
       "      <td>NaN</td>\n",
       "      <td>NaN</td>\n",
       "    </tr>\n",
       "    <tr>\n",
       "      <th>114</th>\n",
       "      <td>NaN</td>\n",
       "      <td>NaN</td>\n",
       "      <td>NaN</td>\n",
       "      <td>NaN</td>\n",
       "      <td>NaN</td>\n",
       "      <td>NaN</td>\n",
       "      <td>NaN</td>\n",
       "      <td>NaN</td>\n",
       "      <td>NaN</td>\n",
       "      <td>NaN</td>\n",
       "      <td>...</td>\n",
       "      <td>NaN</td>\n",
       "      <td>NaN</td>\n",
       "      <td>NaN</td>\n",
       "      <td>NaN</td>\n",
       "      <td>NaN</td>\n",
       "      <td>NaN</td>\n",
       "      <td>NaN</td>\n",
       "      <td>NaN</td>\n",
       "      <td>NaN</td>\n",
       "      <td>NaN</td>\n",
       "    </tr>\n",
       "    <tr>\n",
       "      <th>129</th>\n",
       "      <td>NaN</td>\n",
       "      <td>NaN</td>\n",
       "      <td>NaN</td>\n",
       "      <td>NaN</td>\n",
       "      <td>NaN</td>\n",
       "      <td>NaN</td>\n",
       "      <td>NaN</td>\n",
       "      <td>NaN</td>\n",
       "      <td>NaN</td>\n",
       "      <td>NaN</td>\n",
       "      <td>...</td>\n",
       "      <td>NaN</td>\n",
       "      <td>NaN</td>\n",
       "      <td>NaN</td>\n",
       "      <td>NaN</td>\n",
       "      <td>NaN</td>\n",
       "      <td>NaN</td>\n",
       "      <td>NaN</td>\n",
       "      <td>NaN</td>\n",
       "      <td>NaN</td>\n",
       "      <td>NaN</td>\n",
       "    </tr>\n",
       "  </tbody>\n",
       "</table>\n",
       "<p>5 rows × 16667 columns</p>\n",
       "</div>"
      ],
      "text/plain": [
       "title     Dark Justice   \\\n",
       "user_id                   \n",
       "42                  NaN   \n",
       "70                  NaN   \n",
       "99                  NaN   \n",
       "114                 NaN   \n",
       "129                 NaN   \n",
       "\n",
       "title     Flight Of Fancy American Heiresses  Zebra Ballad Romance    \\\n",
       "user_id                                                                \n",
       "42                                                     NaN             \n",
       "70                                                     NaN             \n",
       "99                                                     NaN             \n",
       "114                                                    NaN             \n",
       "129                                                    NaN             \n",
       "\n",
       "title     Microsoft Application Architecture For Microsoft .Net Designing Application  Pro-Other    \\\n",
       "user_id                                                                                              \n",
       "42                                                     NaN                                           \n",
       "70                                                     NaN                                           \n",
       "99                                                     NaN                                           \n",
       "114                                                    NaN                                           \n",
       "129                                                    NaN                                           \n",
       "\n",
       "title     Murder Of A Sleeping Beauty  Scumble River Mysteries  Paperback     \\\n",
       "user_id                                                                        \n",
       "42                                                     NaN                     \n",
       "70                                                     NaN                     \n",
       "99                                                     NaN                     \n",
       "114                                                    NaN                     \n",
       "129                                                    NaN                     \n",
       "\n",
       "title    $30 Film School   \\\n",
       "user_id                     \n",
       "42                    NaN   \n",
       "70                    NaN   \n",
       "99                    NaN   \n",
       "114                   NaN   \n",
       "129                   NaN   \n",
       "\n",
       "title    'A Hell Of A Place To Lose A Cow' An American Hitchhiking Odyssey   \\\n",
       "user_id                                                                       \n",
       "42                                                     NaN                    \n",
       "70                                                     NaN                    \n",
       "99                                                     NaN                    \n",
       "114                                                    NaN                    \n",
       "129                                                    NaN                    \n",
       "\n",
       "title    'Round The Corner  Sister Circle    'Til Death Do Us Part   \\\n",
       "user_id                                                               \n",
       "42                                      NaN                     NaN   \n",
       "70                                      NaN                     NaN   \n",
       "99                                      NaN                     NaN   \n",
       "114                                     NaN                     NaN   \n",
       "129                                     NaN                     NaN   \n",
       "\n",
       "title    'Tis Herself  A Memoir   10 Minutes Till Bedtime   ...  \\\n",
       "user_id                                                     ...   \n",
       "42                           NaN                       NaN  ...   \n",
       "70                           NaN                       NaN  ...   \n",
       "99                           NaN                       NaN  ...   \n",
       "114                          NaN                       NaN  ...   \n",
       "129                          NaN                       NaN  ...   \n",
       "\n",
       "title    Zipping My Fly Moments In The Life Of An American Sportsman   \\\n",
       "user_id                                                                 \n",
       "42                                                     NaN              \n",
       "70                                                     NaN              \n",
       "99                                                     NaN              \n",
       "114                                                    NaN              \n",
       "129                                                    NaN              \n",
       "\n",
       "title    Zippy Annual 2001   Zobmondo The Outrageous Book Of Bizarre Choices   \\\n",
       "user_id                                                                         \n",
       "42                      NaN                                               NaN   \n",
       "70                      NaN                                               NaN   \n",
       "99                      NaN                                               NaN   \n",
       "114                     NaN                                               NaN   \n",
       "129                     NaN                                               NaN   \n",
       "\n",
       "title    Zodiac   Zoya'S Story An Afghan Woman'S Struggle For Freedom   \\\n",
       "user_id                                                                  \n",
       "42           NaN                                                NaN      \n",
       "70           NaN                                                NaN      \n",
       "99           NaN                                                NaN      \n",
       "114          NaN                                                NaN      \n",
       "129          NaN                                                NaN      \n",
       "\n",
       "title    Zulu Heart   \\But Don'T All Religions Lead To God?\\\"\"   \\\n",
       "user_id                                                           \n",
       "42               NaN                                        NaN   \n",
       "70               NaN                                        NaN   \n",
       "99               NaN                                        NaN   \n",
       "114              NaN                                        NaN   \n",
       "129              NaN                                        NaN   \n",
       "\n",
       "title    \\O\\\" Is For Outlaw\"   \\\n",
       "user_id                         \n",
       "42                        NaN   \n",
       "70                        NaN   \n",
       "99                        NaN   \n",
       "114                       NaN   \n",
       "129                       NaN   \n",
       "\n",
       "title    \\The Gold Club\\\" The Jacklyn \\\"Diva\\\" Bush Story How I Went From Gold Room To Court Room\"   \\\n",
       "user_id                                                                                               \n",
       "42                                                     NaN                                            \n",
       "70                                                     NaN                                            \n",
       "99                                                     NaN                                            \n",
       "114                                                    NaN                                            \n",
       "129                                                    NaN                                            \n",
       "\n",
       "title    \\You'Ll Never Nanny In This Town Again!\\\" The Adventures And Misadventures Of A Hollywood Nanny\"   \n",
       "user_id                                                                                                     \n",
       "42                                                     NaN                                                  \n",
       "70                                                     NaN                                                  \n",
       "99                                                     NaN                                                  \n",
       "114                                                    NaN                                                  \n",
       "129                                                    NaN                                                  \n",
       "\n",
       "[5 rows x 16667 columns]"
      ]
     },
     "execution_count": 49,
     "metadata": {},
     "output_type": "execute_result"
    }
   ],
   "source": [
    "book_matrix = df3.pivot_table(index='user_id', columns='title', values='book_rating')\n",
    "book_matrix.head()"
   ]
  },
  {
   "cell_type": "markdown",
   "metadata": {},
   "source": [
    "# KNN Basic "
   ]
  },
  {
   "cell_type": "code",
   "execution_count": 55,
   "metadata": {},
   "outputs": [
    {
     "name": "stdout",
     "output_type": "stream",
     "text": [
      "('test_rmse', array([1.8274292 , 1.8260086 , 1.82718515, 1.8509944 , 1.84524241]))\n",
      "('test_mae', array([1.41061019, 1.41191602, 1.41600529, 1.42578742, 1.4353661 ]))\n",
      "('fit_time', (13.701164960861206, 13.209265947341919, 12.506980180740356, 11.474082231521606, 9.678462028503418))\n",
      "('test_time', (0.48518800735473633, 0.3675363063812256, 0.2923400402069092, 0.2628309726715088, 0.2317030429840088))\n",
      "-----------------------\n",
      "1.8353719528060786\n"
     ]
    }
   ],
   "source": [
    "knn_basic = KNNBasic(sim_options={'name':'pearson','user_based':True})\n",
    "cv_knn_basic= cross_validate(knn_basic,data,n_jobs=-1)\n",
    "for i in cv_knn_basic.items():\n",
    "    print(i)\n",
    "print('-----------------------')\n",
    "print(np.mean(cv_knn_basic['test_rmse']))"
   ]
  },
  {
   "cell_type": "markdown",
   "metadata": {},
   "source": [
    "#  KNN - Baseline"
   ]
  },
  {
   "cell_type": "code",
   "execution_count": 56,
   "metadata": {},
   "outputs": [
    {
     "name": "stdout",
     "output_type": "stream",
     "text": [
      "Estimating biases using als...\n",
      "Computing the pearson similarity matrix...\n",
      "Done computing similarity matrix.\n",
      "Estimating biases using als...\n",
      "Computing the pearson similarity matrix...\n",
      "Done computing similarity matrix.\n",
      "Estimating biases using als...\n",
      "Computing the pearson similarity matrix...\n",
      "Done computing similarity matrix.\n",
      "Estimating biases using als...\n",
      "Computing the pearson similarity matrix...\n",
      "Done computing similarity matrix.\n",
      "Estimating biases using als...\n",
      "Computing the pearson similarity matrix...\n",
      "Done computing similarity matrix.\n",
      "('test_rmse', array([1.62386682, 1.63661521, 1.67651737, 1.65102207, 1.64433708]))\n",
      "('test_mae', array([1.24922391, 1.24446485, 1.27220311, 1.26133487, 1.25633722]))\n",
      "('fit_time', (4.320934057235718, 4.51840615272522, 4.389546871185303, 4.344373941421509, 4.193351984024048))\n",
      "('test_time', (0.21333599090576172, 0.4168550968170166, 0.18823790550231934, 0.20849180221557617, 0.19227910041809082))\n"
     ]
    },
    {
     "data": {
      "text/plain": [
       "1.646471709800418"
      ]
     },
     "execution_count": 56,
     "metadata": {},
     "output_type": "execute_result"
    }
   ],
   "source": [
    "knn_baseline = KNNBaseline(sim_options={'name':'pearson','user_based':True})\n",
    "cv_knn_baseline = cross_validate(knn_baseline,data)\n",
    "for i in cv_knn_baseline.items():\n",
    "    print(i)\n",
    "np.mean(cv_knn_baseline['test_rmse'])"
   ]
  },
  {
   "cell_type": "markdown",
   "metadata": {},
   "source": [
    "# Perform SVD"
   ]
  },
  {
   "cell_type": "code",
   "execution_count": 7,
   "metadata": {},
   "outputs": [
    {
     "name": "stdout",
     "output_type": "stream",
     "text": [
      "RMSE: 1.5905\n"
     ]
    },
    {
     "data": {
      "text/plain": [
       "1.5905365241889926"
      ]
     },
     "execution_count": 7,
     "metadata": {},
     "output_type": "execute_result"
    }
   ],
   "source": [
    "svd = SVD()\n",
    "svd.fit(trainset)\n",
    "predictions = svd.test(testset)\n",
    "accuracy.rmse(predictions)"
   ]
  },
  {
   "cell_type": "markdown",
   "metadata": {},
   "source": [
    "- **best performing model**"
   ]
  },
  {
   "cell_type": "markdown",
   "metadata": {},
   "source": [
    "# Fitting and evaluating models"
   ]
  },
  {
   "cell_type": "code",
   "execution_count": 8,
   "metadata": {},
   "outputs": [
    {
     "name": "stdout",
     "output_type": "stream",
     "text": [
      "RMSE: 1.5880\n",
      "MAE:  1.2137\n"
     ]
    },
    {
     "data": {
      "text/plain": [
       "1.2137145313374114"
      ]
     },
     "execution_count": 8,
     "metadata": {},
     "output_type": "execute_result"
    }
   ],
   "source": [
    "final = SVD(n_epochs=20, n_factors=100, biased=True, \n",
    "              lr_all=0.005, reg_all=0.1)\n",
    "final.fit(trainset)\n",
    "predictions = final.test(testset)\n",
    "accuracy.rmse(predictions)\n",
    "accuracy.mae(predictions)"
   ]
  },
  {
   "cell_type": "markdown",
   "metadata": {},
   "source": [
    "# Recommendations for Existing User"
   ]
  },
  {
   "cell_type": "code",
   "execution_count": 9,
   "metadata": {},
   "outputs": [
    {
     "name": "stdout",
     "output_type": "stream",
     "text": [
      "Top 10 Recommendations:\n"
     ]
    },
    {
     "data": {
      "text/plain": [
       "[('Harry Potter And The Prisoner Of Azkaban  Book 3  ', 9.084677578129675),\n",
       " ('Harry Potter And The Chamber Of Secrets Postcard Book ', 8.954611194482315),\n",
       " ('Harry Potter And The Order Of The Phoenix  Book 5  ', 8.922235110689702),\n",
       " (\"East Of Eden  Oprah'S Book Club  \", 8.867278672266039),\n",
       " ('Harry Potter And The Goblet Of Fire  Book 4  ', 8.793537884070927),\n",
       " ('The Secret Life Of Bees ', 8.77916881778577),\n",
       " ('Speak ', 8.769647846591928),\n",
       " ('The Godfather ', 8.76398751768827),\n",
       " ('Lost In A Good Book  Thursday Next Novels  Penguin Books   ',\n",
       "  8.645076448265637),\n",
       " ('Sisterhood Of The Traveling Pants ', 8.638027520155488)]"
      ]
     },
     "execution_count": 9,
     "metadata": {},
     "output_type": "execute_result"
    }
   ],
   "source": [
    "def get_recs(user, df):\n",
    "    \"\"\"Returns top 5 recommended books based on predicted rating\"\"\"\n",
    "    \n",
    "    user_score_pred = []\n",
    "    for i in df['title']:\n",
    "        if svd.predict(user,i)[2] == None:\n",
    "            user_score_pred.append(svd.predict(user,i))\n",
    "        else:\n",
    "            continue\n",
    "    \n",
    "    reccomendations = []\n",
    "    for i in user_score_pred:\n",
    "        if i[3]>=3:\n",
    "            reccomendations.append(i)\n",
    "    \n",
    "    rec_dict = {}\n",
    "    for i in reccomendations:\n",
    "        rec_dict.update({i[1]: i[3]})\n",
    "    print('Top 10 Recommendations:')\n",
    "    return sorted(rec_dict.items() ,  key=lambda x: x[1], reverse=True)[:10]\n",
    "\n",
    "get_recs(42, df3)"
   ]
  },
  {
   "cell_type": "markdown",
   "metadata": {},
   "source": [
    "# Making predictions on a new user"
   ]
  },
  {
   "cell_type": "code",
   "execution_count": 12,
   "metadata": {},
   "outputs": [],
   "source": [
    "def book_rater(df,num, author=None):\n",
    "    \"\"\"\n",
    "    The function book_rater should take as parameters:\n",
    "            df : DataFrame - a dataframe containing the movie ids, name of movie, and genres\n",
    "            num : int - number of ratings to enter! \n",
    "            author : string - a specific author from which to draw movies\n",
    "    The function returns:\n",
    "            rating_list : list - a collection of dictionaries in the format of {'userId': int , 'movieId': int ,'rating': float }\n",
    "    \"\"\"\n",
    "    userID = 1\n",
    "    rating_list = []\n",
    "    while num > 0:\n",
    "        if author:\n",
    "            book = df[df['author'].str.contains(author)].sample(1)\n",
    "        else:\n",
    "            book = df.sample(1)\n",
    "        print(book)\n",
    "        book_rating = input('How do you rate this book on a scale of 1-10, press n if you have not seen :\\n')\n",
    "        if book_rating == 'n':\n",
    "            continue\n",
    "        else:\n",
    "            rating_one_book = {'user_id':userID,'title':book['title'].values[0],'book_rating':book_rating}\n",
    "            rating_list.append(rating_one_book) \n",
    "            num -= 1\n",
    "\n",
    "    return rating_list"
   ]
  },
  {
   "cell_type": "code",
   "execution_count": 13,
   "metadata": {
    "scrolled": true
   },
   "outputs": [
    {
     "name": "stdout",
     "output_type": "stream",
     "text": [
      "       user_id      city        state country  age        isbn  book_rating  \\\n",
      "80824   227520  San Jose   California     Usa   33  051512317X            9   \n",
      "\n",
      "             author   publisher          title  \n",
      "80824  Nora Roberts  Jove Books  Rising Tides   \n",
      "How do you rate this book on a scale of 1-10, press n if you have not seen :\n",
      "6\n",
      "       user_id         city           state country  age       isbn  \\\n",
      "10961    29888  Hedgesville   West Virginia     Usa   65  373285000   \n",
      "\n",
      "       book_rating        author   publisher  \\\n",
      "10961            9  Nora Roberts  Silhouette   \n",
      "\n",
      "                                       title  \n",
      "10961  Captivated  Silhouette Single Title    \n",
      "How do you rate this book on a scale of 1-10, press n if you have not seen :\n",
      "9\n",
      "       user_id            city      state country  age       isbn  \\\n",
      "43822   114368  Mechanicsville   Maryland     Usa   33  373218192   \n",
      "\n",
      "       book_rating        author   publisher                title  \n",
      "43822           10  Nora Roberts  Silhouette  Engaging The Enemy   \n",
      "How do you rate this book on a scale of 1-10, press n if you have not seen :\n",
      "8\n",
      "       user_id               city     state country  age        isbn  \\\n",
      "10443    28451  Altamonte Springs   Florida     Usa   31  051513287X   \n",
      "\n",
      "       book_rating        author   publisher  \\\n",
      "10443            8  Nora Roberts  Jove Books   \n",
      "\n",
      "                                               title  \n",
      "10443  Face The Fire  Three Sisters Island Trilogy    \n",
      "How do you rate this book on a scale of 1-10, press n if you have not seen :\n",
      "9\n",
      "      user_id     city       state country  age        isbn  book_rating  \\\n",
      "5680    13552  Cordova   Tennessee     Usa   32  051513628X            8   \n",
      "\n",
      "            author   publisher                                    title  \n",
      "5680  Nora Roberts  Jove Books  Key Of Light  Key Trilogy  Paperback     \n",
      "How do you rate this book on a scale of 1-10, press n if you have not seen :\n",
      "10\n"
     ]
    }
   ],
   "source": [
    "#New User will rate 5 Nora Roberts books (enter in ratings)\n",
    "user_rating = book_rater(df3, 5,'Nora Roberts')"
   ]
  },
  {
   "cell_type": "code",
   "execution_count": 15,
   "metadata": {},
   "outputs": [
    {
     "data": {
      "text/plain": [
       "<surprise.prediction_algorithms.matrix_factorization.SVD at 0x1a187b9da0>"
      ]
     },
     "execution_count": 15,
     "metadata": {},
     "output_type": "execute_result"
    }
   ],
   "source": [
    "# add new user to dataframe \n",
    "new_ratings_df = df3.append(user_rating,ignore_index=True)\n",
    "new_data = Dataset.load_from_df(new_ratings_df[['user_id','title','book_rating']],reader)\n",
    "svd_new = SVD()\n",
    "svd_new.fit(new_data.build_full_trainset())"
   ]
  },
  {
   "cell_type": "code",
   "execution_count": 16,
   "metadata": {
    "scrolled": true
   },
   "outputs": [
    {
     "data": {
      "text/html": [
       "<div>\n",
       "<style scoped>\n",
       "    .dataframe tbody tr th:only-of-type {\n",
       "        vertical-align: middle;\n",
       "    }\n",
       "\n",
       "    .dataframe tbody tr th {\n",
       "        vertical-align: top;\n",
       "    }\n",
       "\n",
       "    .dataframe thead th {\n",
       "        text-align: right;\n",
       "    }\n",
       "</style>\n",
       "<table border=\"1\" class=\"dataframe\">\n",
       "  <thead>\n",
       "    <tr style=\"text-align: right;\">\n",
       "      <th></th>\n",
       "      <th>user_id</th>\n",
       "      <th>city</th>\n",
       "      <th>state</th>\n",
       "      <th>country</th>\n",
       "      <th>age</th>\n",
       "      <th>isbn</th>\n",
       "      <th>book_rating</th>\n",
       "      <th>author</th>\n",
       "      <th>publisher</th>\n",
       "      <th>title</th>\n",
       "    </tr>\n",
       "  </thead>\n",
       "  <tbody>\n",
       "    <tr>\n",
       "      <th>46585</th>\n",
       "      <td>1</td>\n",
       "      <td>NaN</td>\n",
       "      <td>NaN</td>\n",
       "      <td>NaN</td>\n",
       "      <td>NaN</td>\n",
       "      <td>NaN</td>\n",
       "      <td>6</td>\n",
       "      <td>NaN</td>\n",
       "      <td>NaN</td>\n",
       "      <td>Rising Tides</td>\n",
       "    </tr>\n",
       "    <tr>\n",
       "      <th>46586</th>\n",
       "      <td>1</td>\n",
       "      <td>NaN</td>\n",
       "      <td>NaN</td>\n",
       "      <td>NaN</td>\n",
       "      <td>NaN</td>\n",
       "      <td>NaN</td>\n",
       "      <td>9</td>\n",
       "      <td>NaN</td>\n",
       "      <td>NaN</td>\n",
       "      <td>Captivated  Silhouette Single Title</td>\n",
       "    </tr>\n",
       "    <tr>\n",
       "      <th>46587</th>\n",
       "      <td>1</td>\n",
       "      <td>NaN</td>\n",
       "      <td>NaN</td>\n",
       "      <td>NaN</td>\n",
       "      <td>NaN</td>\n",
       "      <td>NaN</td>\n",
       "      <td>8</td>\n",
       "      <td>NaN</td>\n",
       "      <td>NaN</td>\n",
       "      <td>Engaging The Enemy</td>\n",
       "    </tr>\n",
       "    <tr>\n",
       "      <th>46588</th>\n",
       "      <td>1</td>\n",
       "      <td>NaN</td>\n",
       "      <td>NaN</td>\n",
       "      <td>NaN</td>\n",
       "      <td>NaN</td>\n",
       "      <td>NaN</td>\n",
       "      <td>9</td>\n",
       "      <td>NaN</td>\n",
       "      <td>NaN</td>\n",
       "      <td>Face The Fire  Three Sisters Island Trilogy</td>\n",
       "    </tr>\n",
       "    <tr>\n",
       "      <th>46589</th>\n",
       "      <td>1</td>\n",
       "      <td>NaN</td>\n",
       "      <td>NaN</td>\n",
       "      <td>NaN</td>\n",
       "      <td>NaN</td>\n",
       "      <td>NaN</td>\n",
       "      <td>10</td>\n",
       "      <td>NaN</td>\n",
       "      <td>NaN</td>\n",
       "      <td>Key Of Light  Key Trilogy  Paperback</td>\n",
       "    </tr>\n",
       "  </tbody>\n",
       "</table>\n",
       "</div>"
      ],
      "text/plain": [
       "       user_id city state country  age isbn book_rating author publisher  \\\n",
       "46585        1  NaN   NaN     NaN  NaN  NaN           6    NaN       NaN   \n",
       "46586        1  NaN   NaN     NaN  NaN  NaN           9    NaN       NaN   \n",
       "46587        1  NaN   NaN     NaN  NaN  NaN           8    NaN       NaN   \n",
       "46588        1  NaN   NaN     NaN  NaN  NaN           9    NaN       NaN   \n",
       "46589        1  NaN   NaN     NaN  NaN  NaN          10    NaN       NaN   \n",
       "\n",
       "                                               title  \n",
       "46585                                  Rising Tides   \n",
       "46586          Captivated  Silhouette Single Title    \n",
       "46587                            Engaging The Enemy   \n",
       "46588  Face The Fire  Three Sisters Island Trilogy    \n",
       "46589        Key Of Light  Key Trilogy  Paperback     "
      ]
     },
     "execution_count": 16,
     "metadata": {},
     "output_type": "execute_result"
    }
   ],
   "source": [
    "#view new df with new user\n",
    "new_ratings_df.tail()"
   ]
  },
  {
   "cell_type": "code",
   "execution_count": 17,
   "metadata": {},
   "outputs": [
    {
     "name": "stdout",
     "output_type": "stream",
     "text": [
      "Top 10 Recommendations:\n"
     ]
    },
    {
     "data": {
      "text/plain": [
       "[('Harry Potter And The Chamber Of Secrets Postcard Book ', 9.108392991421356),\n",
       " ('Harry Potter And The Prisoner Of Azkaban  Book 3  ', 9.055137679150263),\n",
       " ('Harry Potter And The Order Of The Phoenix  Book 5  ', 8.982467304275069),\n",
       " (\"Harry Potter And The Sorcerer'S Stone  Book 1  \", 8.844156492410134),\n",
       " (\"East Of Eden  Oprah'S Book Club  \", 8.832216916689015),\n",
       " ('Speak ', 8.828390960632555),\n",
       " ('Harry Potter And The Goblet Of Fire  Book 4  ', 8.819897639756958),\n",
       " (\"The Time Traveler'S Wife \", 8.817812615788162),\n",
       " ('Stiff The Curious Lives Of Human Cadavers ', 8.810708869996972),\n",
       " ('The Lord Of The Rings  Movie Art Cover  ', 8.774431339828071)]"
      ]
     },
     "execution_count": 17,
     "metadata": {},
     "output_type": "execute_result"
    }
   ],
   "source": [
    "#Recommendations for new user\n",
    "get_recs(1, new_ratings_df)"
   ]
  },
  {
   "cell_type": "markdown",
   "metadata": {},
   "source": [
    "# Item to Item "
   ]
  },
  {
   "cell_type": "code",
   "execution_count": 58,
   "metadata": {},
   "outputs": [
    {
     "name": "stdout",
     "output_type": "stream",
     "text": [
      "Computing the cosine similarity matrix...\n",
      "Done computing similarity matrix.\n",
      "RMSE: 1.7777\n",
      "1.7777209507991454\n"
     ]
    }
   ],
   "source": [
    "#tried 2 similarity metrics.... \n",
    "sim_pear = {'name':'pearson','user_based':False}\n",
    "sim_cos = {'name':'cosine','user_based':False}\n",
    "\n",
    "#fit the model using KNN \n",
    "basic = knns.KNNBasic(sim_options=sim_cos)\n",
    "basic.fit(trainset)\n",
    "predictions_knn = basic.test(testset)\n",
    "print(accuracy.rmse(predictions_knn))"
   ]
  },
  {
   "cell_type": "code",
   "execution_count": 21,
   "metadata": {},
   "outputs": [
    {
     "data": {
      "text/plain": [
       "Prediction(uid=98391, iid='The Lovely Bones A Novel', r_ui=None, est=7.871201202122114, details={'was_impossible': True, 'reason': 'User and/or item is unkown.'})"
      ]
     },
     "execution_count": 21,
     "metadata": {},
     "output_type": "execute_result"
    }
   ],
   "source": [
    "#test the basic predict\n",
    "basic.predict(98391, 'The Lovely Bones A Novel')"
   ]
  },
  {
   "cell_type": "code",
   "execution_count": 59,
   "metadata": {},
   "outputs": [],
   "source": [
    "def bookrec(book, k=5):\n",
    "    \"\"\"\n",
    "    This function takes in a name of a book and gives you k recommendations for other books that you may like\n",
    "    \"\"\"\n",
    "    iid = basic.trainset.to_inner_iid(book) #changes the name of the book to its id\n",
    "    recs = basic.get_neighbors(iid, k) #takes the id and gives you k recommendations for it (also in id form)\n",
    "    for rec in recs:\n",
    "        print(basic.trainset.to_raw_iid(rec)) #takes the id and converts that back into a beer name and prints it"
   ]
  },
  {
   "cell_type": "code",
   "execution_count": 60,
   "metadata": {},
   "outputs": [
    {
     "name": "stdout",
     "output_type": "stream",
     "text": [
      "The Empire Of Shadows \n",
      "Bee Season A Novel \n",
      "The Consignment \n",
      "Self Matters  Creating Your Life From The Inside Out \n",
      "Basket Case \n"
     ]
    }
   ],
   "source": [
    "#Enter book and result will output the top 5 recommendations\n",
    "bookrec('The Five People You Meet In Heaven ')"
   ]
  }
 ],
 "metadata": {
  "kernelspec": {
   "display_name": "Python 3",
   "language": "python",
   "name": "python3"
  },
  "language_info": {
   "codemirror_mode": {
    "name": "ipython",
    "version": 3
   },
   "file_extension": ".py",
   "mimetype": "text/x-python",
   "name": "python",
   "nbconvert_exporter": "python",
   "pygments_lexer": "ipython3",
   "version": "3.7.3"
  }
 },
 "nbformat": 4,
 "nbformat_minor": 2
}
